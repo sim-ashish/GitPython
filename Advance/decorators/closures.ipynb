{
 "cells": [
  {
   "cell_type": "markdown",
   "metadata": {},
   "source": [
    "#### To know decorators, you should know closures and higher order functions\n"
   ]
  },
  {
   "cell_type": "markdown",
   "metadata": {},
   "source": [
    "# Closures"
   ]
  },
  {
   "cell_type": "code",
   "execution_count": 5,
   "metadata": {},
   "outputs": [
    {
     "name": "stdout",
     "output_type": "stream",
     "text": [
      "<function outer_func.<locals>.inner_func at 0x7f5744199b80>\n",
      "inner_func\n",
      "Hello Pythonians\n"
     ]
    }
   ],
   "source": [
    "''' A closure is an inner function that remembers and has access to \n",
    "    variables in the local scope in which it was created even after the outer function has finished executing\n",
    "'''\n",
    "\n",
    "def outer_func():\n",
    "    msg = \"Hello Pythonians\"\n",
    "\n",
    "    def inner_func():\n",
    "        print(msg)\n",
    "\n",
    "    return inner_func\n",
    "\n",
    "# outer_func()()    directly call inner function\n",
    "\n",
    "ref_innerFunction = outer_func()\n",
    "\n",
    "print(ref_innerFunction)\n",
    "print(ref_innerFunction.__name__)\n",
    "\n",
    "ref_innerFunction()"
   ]
  },
  {
   "cell_type": "code",
   "execution_count": 6,
   "metadata": {},
   "outputs": [
    {
     "name": "stdout",
     "output_type": "stream",
     "text": [
      "<h2>Hello Html</tag>\n",
      "<h2>Hello Python</tag>\n"
     ]
    }
   ],
   "source": [
    "def html_tag(tag):\n",
    "    def wrap_text(txt):\n",
    "        print(f'<{tag}>{txt}</tag>')\n",
    "\n",
    "    return wrap_text\n",
    "\n",
    "\n",
    "\n",
    "handle_tag = html_tag('h2')\n",
    "handle_tag(\"Hello Html\")\n",
    "handle_tag(\"Hello Python\")\n"
   ]
  },
  {
   "cell_type": "code",
   "execution_count": 7,
   "metadata": {},
   "outputs": [
    {
     "name": "stdout",
     "output_type": "stream",
     "text": [
      "11\n",
      "6\n"
     ]
    }
   ],
   "source": [
    "import logging \n",
    "logging.basicConfig(filename='textlogging.log', level=logging.INFO)\n",
    "\n",
    "def logger(func):\n",
    "    def log_func(*args):\n",
    "        logging.info('Running \"{}\" with arguments \"{}\"'.format(func.__name__, args))\n",
    "        print(func(*args))\n",
    "\n",
    "    return log_func\n",
    "\n",
    "def add(x, y):\n",
    "    return x+y\n",
    "\n",
    "def sub(x, y):\n",
    "    return x-y\n",
    "\n",
    "add_logger = logger(add)\n",
    "\n",
    "sub_logger = logger(sub)\n",
    "\n",
    "add_logger(3,8)\n",
    "sub_logger(9,3)"
   ]
  }
 ],
 "metadata": {
  "kernelspec": {
   "display_name": "Python 3",
   "language": "python",
   "name": "python3"
  },
  "language_info": {
   "codemirror_mode": {
    "name": "ipython",
    "version": 3
   },
   "file_extension": ".py",
   "mimetype": "text/x-python",
   "name": "python",
   "nbconvert_exporter": "python",
   "pygments_lexer": "ipython3",
   "version": "3.8.10"
  }
 },
 "nbformat": 4,
 "nbformat_minor": 2
}
