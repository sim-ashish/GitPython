{
 "cells": [
  {
   "cell_type": "markdown",
   "metadata": {},
   "source": [
    "# First class functions"
   ]
  },
  {
   "cell_type": "markdown",
   "metadata": {},
   "source": [
    "#### first class functions are functions, which can take other function as argument, return functions and can assign to a variable\n"
   ]
  },
  {
   "cell_type": "code",
   "execution_count": 1,
   "metadata": {},
   "outputs": [
    {
     "name": "stdout",
     "output_type": "stream",
     "text": [
      "8\n",
      "<function square at 0x7fecfc1ca670>\n",
      "<function square at 0x7fecfc1ca670>\n",
      "25\n"
     ]
    }
   ],
   "source": [
    "# assign a function to a variable\n",
    "def square(x, y):\n",
    "    return x + y\n",
    "\n",
    "f = square(3, 5)        # its normal, return the value and assign in f\n",
    "print(f)\n",
    "\n",
    "func = square       # here we are assign the function to  a variable\n",
    "\n",
    "print(square)\n",
    "print(func)\n",
    "\n",
    "'''Now we can call the function using func variable also'''\n",
    "\n",
    "print(func(3,22))\n"
   ]
  },
  {
   "cell_type": "code",
   "execution_count": 6,
   "metadata": {},
   "outputs": [
    {
     "name": "stdout",
     "output_type": "stream",
     "text": [
      "[1, 8, 27, 64, 125, 216]\n"
     ]
    }
   ],
   "source": [
    "# passing function as an argument\n",
    "\n",
    "def map_func(func, *args):         # this function takes another function as argument\n",
    "    cube_list = []\n",
    "    for each_value in args:\n",
    "        cube_list.append(func(each_value))          # calling that passed function\n",
    "\n",
    "    return cube_list\n",
    "\n",
    "\n",
    "def cubes(x):\n",
    "    return x*x*x\n",
    "\n",
    "\n",
    "print(map_func(cubes,1,2,3,4,5,6))\n",
    "\n"
   ]
  },
  {
   "cell_type": "code",
   "execution_count": 9,
   "metadata": {},
   "outputs": [
    {
     "name": "stdout",
     "output_type": "stream",
     "text": [
      "Hurray\n"
     ]
    }
   ],
   "source": [
    "# returning function from a function\n",
    "\n",
    "def match(score):\n",
    "    if score > 100:\n",
    "        return century\n",
    "    else:\n",
    "        return average\n",
    "    \n",
    "def century():\n",
    "    print(\"Hurray\")\n",
    "\n",
    "def average():\n",
    "    print(\"Average Score\")\n",
    "\n",
    "\n",
    "match(120)  # it will return the object of century function, we have to call it\n",
    "\n",
    "inner_func = match(120)\n",
    "inner_func()"
   ]
  }
 ],
 "metadata": {
  "kernelspec": {
   "display_name": "Python 3",
   "language": "python",
   "name": "python3"
  },
  "language_info": {
   "codemirror_mode": {
    "name": "ipython",
    "version": 3
   },
   "file_extension": ".py",
   "mimetype": "text/x-python",
   "name": "python",
   "nbconvert_exporter": "python",
   "pygments_lexer": "ipython3",
   "version": "3.8.10"
  }
 },
 "nbformat": 4,
 "nbformat_minor": 2
}
