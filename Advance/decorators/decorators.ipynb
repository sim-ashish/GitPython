{
 "cells": [
  {
   "cell_type": "markdown",
   "metadata": {},
   "source": [
    "### Before starting with decorators, learn about closures and first class functions"
   ]
  },
  {
   "cell_type": "markdown",
   "metadata": {},
   "source": [
    "- **decorators** are functions that take an function as an argument and do some extra functionality on that function without modifying it and returns a new function"
   ]
  },
  {
   "cell_type": "code",
   "execution_count": 1,
   "metadata": {},
   "outputs": [
    {
     "name": "stdout",
     "output_type": "stream",
     "text": [
      "hi\n",
      "bye\n"
     ]
    }
   ],
   "source": [
    "# closures example\n",
    "\n",
    "def decorator_function(msg):\n",
    "    def wrapper_function():\n",
    "         print(msg)\n",
    "    return wrapper_function\n",
    "\n",
    "\n",
    "hi_func = decorator_function(\"hi\")\n",
    "bye_func = decorator_function(\"bye\")\n",
    "\n",
    "hi_func()\n",
    "bye_func()"
   ]
  },
  {
   "cell_type": "code",
   "execution_count": 3,
   "metadata": {},
   "outputs": [
    {
     "name": "stdout",
     "output_type": "stream",
     "text": [
      "display function run\n"
     ]
    }
   ],
   "source": [
    "'''Now instead of passing message etc., what if we pass a function'''\n",
    "\n",
    "\n",
    "def decorator_func(original_func):\n",
    "    def wrapper_func():\n",
    "        return original_func()\n",
    "    \n",
    "    return wrapper_func\n",
    "\n",
    "def display():\n",
    "    print('display function run')\n",
    "\n",
    "\n",
    "decorated_function = decorator_func(display)\n",
    "\n",
    "decorated_function()"
   ]
  },
  {
   "cell_type": "code",
   "execution_count": 4,
   "metadata": {},
   "outputs": [
    {
     "name": "stdout",
     "output_type": "stream",
     "text": [
      "Decorator Executes before original function call\n",
      "display function run\n"
     ]
    }
   ],
   "source": [
    "def decorator_func(original_func):\n",
    "    def wrapper_func():\n",
    "        print(\"Decorator Executes before original function call\")\n",
    "        return original_func()\n",
    "    \n",
    "    return wrapper_func\n",
    "\n",
    "\n",
    "@decorator_func\n",
    "def display():\n",
    "    print('display function run')\n",
    "\n",
    "'''@decorator set  -> display = decorator_func(display)'''\n",
    "\n",
    "\n",
    "display()"
   ]
  },
  {
   "cell_type": "code",
   "execution_count": 26,
   "metadata": {},
   "outputs": [
    {
     "name": "stdout",
     "output_type": "stream",
     "text": [
      "Decorator Executes before original function call\n",
      "display function run\n",
      "Decorator Executes before original function call\n",
      "display info ashish, 22\n"
     ]
    }
   ],
   "source": [
    "def decorator_func(original_func):\n",
    "    def wrapper_func(*args, **kwargs): \n",
    "        print(\"Decorator Executes before original function call\")\n",
    "        return original_func(*args, **kwargs)\n",
    "    \n",
    "    return wrapper_func\n",
    "\n",
    "@decorator_func\n",
    "def display():\n",
    "    print('display function run')\n",
    "\n",
    "@decorator_func\n",
    "def display_info(name, age):\n",
    "    print(f'display info {name}, {age}')\n",
    "\n",
    "display()\n",
    "display_info('ashish', 22)"
   ]
  },
  {
   "cell_type": "markdown",
   "metadata": {},
   "source": [
    "#### Implementing class decorators"
   ]
  },
  {
   "cell_type": "code",
   "execution_count": 23,
   "metadata": {},
   "outputs": [
    {
     "name": "stdout",
     "output_type": "stream",
     "text": [
      "Decorator Executes before original function call\n",
      "display function run\n",
      "Decorator Executes before original function call\n",
      "display info ashish, 22\n"
     ]
    }
   ],
   "source": [
    "class decorator_class(object):\n",
    "    def __init__(self, originalFunction):\n",
    "        self.originalFunction = originalFunction\n",
    "\n",
    "    def __call__(self, *args, **kwargs):\n",
    "        print(\"Decorator Executes before original function call\")\n",
    "        return self.originalFunction(*args, **kwargs)\n",
    "    \n",
    "\n",
    "@decorator_class\n",
    "def display():\n",
    "    print('display function run')\n",
    "\n",
    "@decorator_class\n",
    "def display_info(name, age):\n",
    "    print(f'display info {name}, {age}')\n",
    "\n",
    "display()\n",
    "display_info('ashish', 22)"
   ]
  }
 ],
 "metadata": {
  "kernelspec": {
   "display_name": "Python 3",
   "language": "python",
   "name": "python3"
  },
  "language_info": {
   "codemirror_mode": {
    "name": "ipython",
    "version": 3
   },
   "file_extension": ".py",
   "mimetype": "text/x-python",
   "name": "python",
   "nbconvert_exporter": "python",
   "pygments_lexer": "ipython3",
   "version": "3.8.10"
  }
 },
 "nbformat": 4,
 "nbformat_minor": 2
}
