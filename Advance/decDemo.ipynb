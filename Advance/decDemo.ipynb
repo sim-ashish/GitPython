{
 "cells": [
  {
   "cell_type": "code",
   "execution_count": 18,
   "metadata": {},
   "outputs": [
    {
     "name": "stdout",
     "output_type": "stream",
     "text": [
      "2.5\n"
     ]
    }
   ],
   "source": [
    "def smartdiv(fun):\n",
    "    def inner(**kwargs):\n",
    "        if kwargs['a']>kwargs['b']:\n",
    "            return fun(kwargs['a'],kwargs['b'])\n",
    "        else:\n",
    "            return fun(kwargs['b'],kwargs['a'])\n",
    "\n",
    "    return inner\n",
    "\n",
    "\n",
    "@smartdiv\n",
    "def div(a,b):\n",
    "    return a/b\n",
    "\n",
    "\n",
    "print(div(a = 2,b = 5))\n",
    "\n"
   ]
  }
 ],
 "metadata": {
  "kernelspec": {
   "display_name": "Python 3",
   "language": "python",
   "name": "python3"
  },
  "language_info": {
   "codemirror_mode": {
    "name": "ipython",
    "version": 3
   },
   "file_extension": ".py",
   "mimetype": "text/x-python",
   "name": "python",
   "nbconvert_exporter": "python",
   "pygments_lexer": "ipython3",
   "version": "3.8.10"
  }
 },
 "nbformat": 4,
 "nbformat_minor": 2
}
