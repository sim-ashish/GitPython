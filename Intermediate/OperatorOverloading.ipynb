{
 "cells": [
  {
   "cell_type": "code",
   "execution_count": 3,
   "metadata": {},
   "outputs": [
    {
     "name": "stdout",
     "output_type": "stream",
     "text": [
      "11\n",
      "15\n"
     ]
    }
   ],
   "source": [
    "print(5 + 6)\n",
    "\n",
    "print(int.__add__(8,7))         # there are dunder or magic methods \n"
   ]
  },
  {
   "cell_type": "code",
   "execution_count": 10,
   "metadata": {},
   "outputs": [
    {
     "name": "stdout",
     "output_type": "stream",
     "text": [
      "Mohan\n",
      "148\n",
      "True\n",
      "False\n",
      "[Mohan-83, Amit-65]\n"
     ]
    }
   ],
   "source": [
    "class Wrestler:\n",
    "    def __init__(self, name, weight):\n",
    "        self.name = name\n",
    "        self.weight = weight\n",
    "\n",
    "    def __str__(self):\n",
    "        return self.name\n",
    "    \n",
    "    def __repr__(self):\n",
    "        return f'{self.name}-{self.weight}'\n",
    "    \n",
    "    def __add__(self, other):\n",
    "        return self.weight + other.weight\n",
    "    \n",
    "    def __gt__(self, other):\n",
    "        if self.weight > other.weight:\n",
    "            return True\n",
    "        return False\n",
    "    \n",
    "\n",
    "wrestler_1 = Wrestler('Mohan', 83)\n",
    "wrestler_2 = Wrestler('Amit', 65)\n",
    "\n",
    "print(wrestler_1)       # it will call the __str__ method\n",
    "\n",
    "print(wrestler_1 + wrestler_2)      # it will call the __add__ method  -> Wrestler.__add__(wrestler_1, wrestler_2)\n",
    "\n",
    "\n",
    "print(wrestler_1 > wrestler_2)          # __gt__ called\n",
    "print(wrestler_2 > wrestler_1)\n",
    "\n",
    "li = [wrestler_1, wrestler_2]           # __repe__ called\n",
    "\n",
    "print(li)\n",
    "\n",
    "\n",
    "\n",
    "\n"
   ]
  }
 ],
 "metadata": {
  "kernelspec": {
   "display_name": "Python 3",
   "language": "python",
   "name": "python3"
  },
  "language_info": {
   "codemirror_mode": {
    "name": "ipython",
    "version": 3
   },
   "file_extension": ".py",
   "mimetype": "text/x-python",
   "name": "python",
   "nbconvert_exporter": "python",
   "pygments_lexer": "ipython3",
   "version": "3.8.10"
  }
 },
 "nbformat": 4,
 "nbformat_minor": 2
}
