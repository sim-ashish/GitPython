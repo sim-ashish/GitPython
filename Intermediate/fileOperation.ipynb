{
 "cells": [
  {
   "cell_type": "markdown",
   "metadata": {},
   "source": [
    "# File Operations"
   ]
  },
  {
   "cell_type": "code",
   "execution_count": null,
   "metadata": {},
   "outputs": [],
   "source": [
    "fileptr = open('demo.txt', \"r\")\n",
    "'''\n",
    "    \"r\" - Read - Default value. Opens a file for reading, error if the file does not exist\n",
    "    \"r+\" - Read and Write Both\n",
    "    \"a\" - Append - Opens a file for appending, creates the file if it does not exist\n",
    "    \"a+\" - Append and Read both\n",
    "    \"w\" - Write - Opens a file for writing, creates the file if it does not exist\n",
    "    \"w+\" - Write and Read Both\n",
    "    \"x\" - Create - Creates the specified file, returns an error if the file exists\n",
    "'''\n",
    "\n",
    "'''\n",
    "    \"t\" - Text - Default value. Text mode\n",
    "\n",
    "    \"b\" - Binary - Binary mode (e.g. images)\n",
    "'''\n",
    "\n",
    "# f = open(\"demofile.txt\", \"rt\")"
   ]
  },
  {
   "cell_type": "markdown",
   "metadata": {},
   "source": [
    "### Read Files"
   ]
  },
  {
   "cell_type": "code",
   "execution_count": 16,
   "metadata": {},
   "outputs": [
    {
     "name": "stdout",
     "output_type": "stream",
     "text": [
      "<_io.TextIOWrapper name='demo.txt' mode='r' encoding='UTF-8'>\n",
      "Hello This is \n",
      "text file for demo purpose\n",
      "\n",
      "twinkle twinkle little star\n",
      "how i wonder what you are\n",
      "11121211561651651651 51651651651 1235151651651 fsdf\n",
      "efef46854 e654fr6e w6er4f w6e4r6 4we64rf\n",
      "\n"
     ]
    }
   ],
   "source": [
    "f = open('demo.txt', 'r')\n",
    "print(f) \n",
    "\n",
    "print(f.read()) # it will return whole text\n",
    "print(f.read(5))    # it will read only 5 characters\n",
    "\n",
    "f.close()   # At the end close the file"
   ]
  },
  {
   "cell_type": "code",
   "execution_count": 20,
   "metadata": {},
   "outputs": [
    {
     "name": "stdout",
     "output_type": "stream",
     "text": [
      "Hello This is \n",
      "\n",
      "text file for demo purpose\n",
      "\n",
      "\n",
      "\n",
      "twinkle twinkle little star\n",
      "\n",
      "how i wonder what you are\n",
      "\n",
      "11121211561651651651 51651651651 1235151651651 fsdf\n",
      "\n",
      "efef46854 e654fr6e w6er4f w6e4r6 4we64rf\n"
     ]
    }
   ],
   "source": [
    "fileptr = open('demo.txt', 'r')\n",
    "print(fileptr.readline()) # it will read first line\n",
    "print(fileptr.readline()) # it will read second line\n",
    "# readlines()                   will give us a list of all lines including \\n\n",
    "\n",
    "for x in fileptr:           # it will loop through all lines\n",
    "    print(x)\n",
    "\n",
    "\n",
    "fileptr.close()"
   ]
  },
  {
   "cell_type": "markdown",
   "metadata": {},
   "source": [
    "## Writing in file"
   ]
  },
  {
   "cell_type": "code",
   "execution_count": 21,
   "metadata": {},
   "outputs": [],
   "source": [
    "write_file = open('demo2.txt', 'w')\n",
    "\n",
    "write_file.write(\"This content is added by file operation\")\n",
    "\n",
    "write_file.close()\n",
    "\n",
    "# you can check using read operation"
   ]
  },
  {
   "cell_type": "code",
   "execution_count": 24,
   "metadata": {},
   "outputs": [],
   "source": [
    "append_file = open('demo2.txt', 'a')\n",
    "\n",
    "append_file.write(\"\\nAppended some more text\")\n",
    "\n",
    "append_file.close()"
   ]
  },
  {
   "cell_type": "markdown",
   "metadata": {},
   "source": [
    "## Remove File"
   ]
  },
  {
   "cell_type": "code",
   "execution_count": 25,
   "metadata": {},
   "outputs": [],
   "source": [
    "import os \n",
    "os.remove('demo3.txt')\n",
    "\n",
    "# os.rmdir(\"myfolder\")          It removes the folder"
   ]
  },
  {
   "cell_type": "code",
   "execution_count": 30,
   "metadata": {},
   "outputs": [
    {
     "name": "stdout",
     "output_type": "stream",
     "text": [
      "yes file exits\n"
     ]
    }
   ],
   "source": [
    "'''Check if the file exist or not'''\n",
    "if os.path.exists(\"demo.txt\"):\n",
    "#   os.remove(\"demo3.txt\")\n",
    "    print(\"yes file exits\")\n",
    "else:\n",
    "  print(\"The file does not exist\")"
   ]
  },
  {
   "cell_type": "markdown",
   "metadata": {},
   "source": [
    "## File Operation with \"with\" statement"
   ]
  },
  {
   "cell_type": "code",
   "execution_count": 31,
   "metadata": {},
   "outputs": [
    {
     "name": "stdout",
     "output_type": "stream",
     "text": [
      "This content is added by file operationAppended some more text\n",
      "Appended some more text\n"
     ]
    }
   ],
   "source": [
    "'''For file operations we should use try except and finally , to open() and close() the file'''\n",
    "''' using with clause we dont have to worry about closing of file, it handled automatically'''\n",
    "\n",
    "with open('demo2.txt', 'r') as read_file:\n",
    "    content = read_file.read()\n",
    "    print(content)"
   ]
  },
  {
   "cell_type": "code",
   "execution_count": null,
   "metadata": {},
   "outputs": [],
   "source": [
    "'''os more methods'''\n",
    "\n",
    "# os.rename('old_name', 'new_name')                             to rename\n",
    "# os.mkdir (path, mode = 0o777, *, dir_fd = None)               to create a new directory"
   ]
  }
 ],
 "metadata": {
  "kernelspec": {
   "display_name": "Python 3",
   "language": "python",
   "name": "python3"
  },
  "language_info": {
   "codemirror_mode": {
    "name": "ipython",
    "version": 3
   },
   "file_extension": ".py",
   "mimetype": "text/x-python",
   "name": "python",
   "nbconvert_exporter": "python",
   "pygments_lexer": "ipython3",
   "version": "3.8.10"
  }
 },
 "nbformat": 4,
 "nbformat_minor": 2
}
