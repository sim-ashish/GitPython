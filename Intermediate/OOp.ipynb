{
 "cells": [
  {
   "cell_type": "markdown",
   "metadata": {},
   "source": [
    "# OOP (Object Oriented Programming)"
   ]
  },
  {
   "cell_type": "code",
   "execution_count": 3,
   "metadata": {},
   "outputs": [
    {
     "name": "stdout",
     "output_type": "stream",
     "text": [
      "Showing User\n",
      "Showing User\n"
     ]
    }
   ],
   "source": [
    "'''OOP is a methodology to Write your code'''\n",
    "'''We write our code in form of classes and object'''\n",
    "\n",
    "'''Class contains attributes and methods(which are functios, but we call method in context of class)'''\n",
    "\n",
    "class Student:                  # class is a keyword to declare class\n",
    "    def show(self):             # self is used to point the current object\n",
    "        print(\"Showing User\")\n",
    "\n",
    "\n",
    "'''Above we have created a class'''\n",
    "\n",
    "'''Now we call an object which is an instance of class'''\n",
    "\n",
    "student_1 = Student()           # Creating a object from Class\n",
    "student_1.show()                # calling the show method using object\n",
    "Student.show(student_1)         # Same as above but more readable, self is pointing to student_1"
   ]
  },
  {
   "cell_type": "code",
   "execution_count": 4,
   "metadata": {},
   "outputs": [
    {
     "data": {
      "text/plain": [
       "__main__.Student"
      ]
     },
     "execution_count": 4,
     "metadata": {},
     "output_type": "execute_result"
    }
   ],
   "source": [
    "type(student_1)     # We can see that student_1 is of type Student\n",
    "\n",
    "'''Everyting in python is an object, that have specific class'''"
   ]
  },
  {
   "cell_type": "markdown",
   "metadata": {},
   "source": [
    "### Constructs and Destructors"
   ]
  },
  {
   "cell_type": "code",
   "execution_count": 13,
   "metadata": {},
   "outputs": [
    {
     "name": "stdout",
     "output_type": "stream",
     "text": [
      "Resources are Free now, deleting MSI Object\n",
      "Name : Dell, Processor :Intel i5, Ram: 16gb\n",
      "Name : MSI, Processor :Ryzen 5, Ram: 16gb\n",
      "False\n"
     ]
    }
   ],
   "source": [
    "'''Constructors are used to initialize something when an object is created,\n",
    "   weather it is to initialize the variables or any other operation'''\n",
    "\n",
    "\n",
    "'''Destructors are used to perform operation like, free resources. It is called just before when object is going about to delete'''\n",
    "\n",
    "class Computer:\n",
    "    '''This class will set and show configurations of Computer objects'''\n",
    "    def __init__(self,  processor, ram, name ):\n",
    "        self.processor = processor\n",
    "        self.ram = ram\n",
    "        self.name = name\n",
    "\n",
    "    # here we declaring and initializing instance variables, which are isolated to every other objects\n",
    "\n",
    "    def __str__(self):\n",
    "        return self.name\n",
    "\n",
    "    def ShowConfig(self: object)->  None:\n",
    "        '''Shows Configuration of the Current Object'''\n",
    "        print(f'Name : {self.name}, Processor :{self.processor}, Ram: {self.ram}')\n",
    "\n",
    "    def __del__(self):\n",
    "        print(f\"Resources are Free now, deleting {self} Object\")\n",
    "\n",
    "    def compare(self, other):\n",
    "        if self.name == other.name:\n",
    "            return True\n",
    "        return False\n",
    "\n",
    "comp_1 = Computer('Intel i5', '16gb', 'Dell')\n",
    "comp_2 = Computer('Ryzen 5', '16gb', 'MSI')\n",
    "\n",
    "comp_1.ShowConfig()\n",
    "comp_2.ShowConfig()\n",
    "\n",
    "print(comp_1.compare(comp_2))\n",
    "\n",
    "\n",
    "# del comp_1\n"
   ]
  },
  {
   "cell_type": "code",
   "execution_count": 22,
   "metadata": {},
   "outputs": [
    {
     "name": "stdout",
     "output_type": "stream",
     "text": [
      "Employee Created\n",
      "Employee Created\n",
      "Profile Set!!!!\n",
      "Profile Set!!!!\n",
      "Username: Jack, Department: Python, Salary: 60000\n",
      "XYZ\n",
      "Metting Scheduled, Successfully!\n"
     ]
    }
   ],
   "source": [
    "class Employee:\n",
    "    '''Employee class, which creates Employee objects'''\n",
    "\n",
    "    company_name = 'XYZ'            # class or static variable, common for all the objects\n",
    "\n",
    "    def __init__(self):\n",
    "        print(\"Employee Created\")\n",
    "\n",
    "    def SetData(self, name, dept, salary):                      # Instance method, because it using instance variables\n",
    "        '''Setter Method to set the data of the Employee'''\n",
    "\n",
    "        self.name = name\n",
    "        self.dept = dept\n",
    "        self.salary = salary\n",
    "\n",
    "        print(\"Profile Set!!!!\")\n",
    "\n",
    "    def GetData(self):\n",
    "        '''Getter method to get the data of the Employee'''\n",
    "\n",
    "        print(f\"Username: {self.name}, Department: {self.dept}, Salary: {self.salary}\")\n",
    "\n",
    "\n",
    "    @classmethod        # decorator to make it a class method\n",
    "    def GetCompany(cls):               # its a class method so we pass only \"cls\" in place of self, because it work with class variable\n",
    "        print(cls.company_name)\n",
    "\n",
    "\n",
    "    @staticmethod           # decorator to make it a static method\n",
    "    def GetSchedule():                          # it is a static method, because its not woking with instance or class variables\n",
    "        print(\"Metting Scheduled, Successfully!\")\n",
    "    \n",
    "employee_1 = Employee()\n",
    "employee_2 = Employee()\n",
    "\n",
    "employee_1.SetData(\"Jack\", \"Python\", \"60000\")\n",
    "employee_2.SetData(\"Rahul\", \"C++\", \"70000\")\n",
    "\n",
    "employee_1.GetData()\n",
    "\n",
    "Employee.GetCompany()\n",
    "\n",
    "Employee.GetSchedule()"
   ]
  }
 ],
 "metadata": {
  "kernelspec": {
   "display_name": "Python 3",
   "language": "python",
   "name": "python3"
  },
  "language_info": {
   "codemirror_mode": {
    "name": "ipython",
    "version": 3
   },
   "file_extension": ".py",
   "mimetype": "text/x-python",
   "name": "python",
   "nbconvert_exporter": "python",
   "pygments_lexer": "ipython3",
   "version": "3.8.10"
  }
 },
 "nbformat": 4,
 "nbformat_minor": 2
}
