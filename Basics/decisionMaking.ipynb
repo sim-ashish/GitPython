{
 "cells": [
  {
   "cell_type": "code",
   "execution_count": 1,
   "metadata": {},
   "outputs": [
    {
     "name": "stdout",
     "output_type": "stream",
     "text": [
      "Control Flow Statements\n"
     ]
    }
   ],
   "source": [
    "print(\"Control Flow Statements\")"
   ]
  },
  {
   "cell_type": "markdown",
   "metadata": {},
   "source": [
    "# Python uses if, elif, else, match for control flow"
   ]
  },
  {
   "cell_type": "code",
   "execution_count": 4,
   "metadata": {},
   "outputs": [
    {
     "name": "stdout",
     "output_type": "stream",
     "text": [
      " Less Than 20\n"
     ]
    }
   ],
   "source": [
    "'''The if statement in Python evaluates whether a condition is true or false.\n",
    "    It contains a logical expression that compares data, and a decision is made based on the result of the comparison.'''\n",
    "\n",
    "a = 10\n",
    "if(a < 20):\n",
    "    print(\" Less Than 20\")\n",
    "\n",
    "if(a > 20):\n",
    "    print(\" Greater than 20\")"
   ]
  },
  {
   "cell_type": "code",
   "execution_count": 5,
   "metadata": {},
   "outputs": [
    {
     "name": "stdout",
     "output_type": "stream",
     "text": [
      "Less than 20\n"
     ]
    }
   ],
   "source": [
    "'''In the above code cell, we see that if a > 20, then another print statement is executed. Instead of another if condition \n",
    "   we can use else'''\n",
    "\n",
    "a = 10\n",
    "if(a < 20):\n",
    "    print(\"Less than 20\")\n",
    "else:\n",
    "    print(\"Greater than 20\")\n",
    "\n",
    "# else didn't take any condition"
   ]
  },
  {
   "cell_type": "code",
   "execution_count": 6,
   "metadata": {},
   "outputs": [
    {
     "name": "stdout",
     "output_type": "stream",
     "text": [
      "Number is 12\n"
     ]
    }
   ],
   "source": [
    "'''We can have any number of statements '''\n",
    "\n",
    "number = 12\n",
    "\n",
    "if(number == 10):\n",
    "    print(\"Number is  10\")\n",
    "\n",
    "if(number == 11):\n",
    "    print(\"Number is 11\")\n",
    "\n",
    "if(number == 12):\n",
    "    print(\"Number is 12\")\n",
    "\n"
   ]
  },
  {
   "cell_type": "code",
   "execution_count": 7,
   "metadata": {},
   "outputs": [
    {
     "name": "stdout",
     "output_type": "stream",
     "text": [
      "Number is 12\n"
     ]
    }
   ],
   "source": [
    "''' In the above code we see that we have to write multiple if for the same type of problem, instead we can use elif condition '''\n",
    "\n",
    "number = 12\n",
    "if(number == 10):\n",
    "    print(\"Number is 10\")\n",
    "elif(number == 11):\n",
    "    print(\"Number is 11\")\n",
    "elif(number == 12):\n",
    "    print(\"Number is 12\")\n",
    "else:\n",
    "    print(\"I don't know\")\n",
    "\n",
    "# elif  takes condition"
   ]
  },
  {
   "cell_type": "code",
   "execution_count": 8,
   "metadata": {},
   "outputs": [
    {
     "name": "stdout",
     "output_type": "stream",
     "text": [
      "Inside else.....if\n"
     ]
    }
   ],
   "source": [
    "'''We can have nested if else statements also, i.e another if else stament inside a if or else condition'''\n",
    "\n",
    "a = 10\n",
    "b = 32\n",
    "\n",
    "if(a > 15):\n",
    "    if(b > 30):\n",
    "        print(\"Inside if....if\")\n",
    "    else:\n",
    "        print(\"inside if....else\")\n",
    "else:\n",
    "    if(b>30):\n",
    "        print(\"Inside else.....if\")\n",
    "    else:\n",
    "        print(\"Inside else.....else\")"
   ]
  },
  {
   "cell_type": "markdown",
   "metadata": {},
   "source": [
    "Python match-case Statement (introduced in python 3.10)"
   ]
  },
  {
   "cell_type": "code",
   "execution_count": 9,
   "metadata": {},
   "outputs": [
    {
     "ename": "SyntaxError",
     "evalue": "invalid syntax (2883909855.py, line 14)",
     "output_type": "error",
     "traceback": [
      "\u001b[0;36m  Cell \u001b[0;32mIn[9], line 14\u001b[0;36m\u001b[0m\n\u001b[0;31m    match n:\u001b[0m\n\u001b[0m          ^\u001b[0m\n\u001b[0;31mSyntaxError\u001b[0m\u001b[0;31m:\u001b[0m invalid syntax\n"
     ]
    }
   ],
   "source": [
    "'''A Python match-case statement takes an expression and compares its value to successive patterns given as one or more case blocks. \n",
    "   Only the first pattern that matches gets executed. '''\n",
    "\n",
    "'''\n",
    "   match variable_name:\n",
    "   case 'pattern 1' : statement 1\n",
    "   case 'pattern 2' : statement 2\n",
    "   ...\n",
    "   case 'pattern n' : statement n\n",
    "   case _ : statement                   # Default case\n",
    "'''\n",
    "\n",
    "n = 2\n",
    "\n",
    "match n:\n",
    "    case 0: print(\"Monday\")\n",
    "    case 1: print(\"Tuesday\")\n",
    "    case 2: print(\"Wednesday\")\n",
    "    case 3: print(\"Thursday\")\n",
    "    case 4: print(\"Friday\")\n",
    "    case 5: print(\"Saturday\")\n",
    "    case 6: print(\"Sunday\")\n",
    "    case _: print(\"Invalid day number\")\n",
    "\n",
    "# Run this on python 3.10 or higher version"
   ]
  }
 ],
 "metadata": {
  "kernelspec": {
   "display_name": "Python 3",
   "language": "python",
   "name": "python3"
  },
  "language_info": {
   "codemirror_mode": {
    "name": "ipython",
    "version": 3
   },
   "file_extension": ".py",
   "mimetype": "text/x-python",
   "name": "python",
   "nbconvert_exporter": "python",
   "pygments_lexer": "ipython3",
   "version": "3.8.10"
  }
 },
 "nbformat": 4,
 "nbformat_minor": 2
}
