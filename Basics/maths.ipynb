{
 "cells": [
  {
   "cell_type": "markdown",
   "metadata": {},
   "source": [
    "# Math module in python give us many functions to work with them flexible"
   ]
  },
  {
   "cell_type": "code",
   "execution_count": 13,
   "metadata": {},
   "outputs": [
    {
     "name": "stdout",
     "output_type": "stream",
     "text": [
      "3\n",
      "2\n",
      "2.718281828459045\n",
      "3.141592653589793\n",
      "120\n",
      "0.0\n",
      "15.0\n",
      "12\n",
      "729.0\n",
      "5.0\n"
     ]
    }
   ],
   "source": [
    "import math\n",
    "\n",
    "print(math.ceil(2.3))      # integer value greater than 2.3 ---> 3\n",
    "print(math.floor(2.9))     # integer value less than 2.9 ----->2\n",
    "print(math.e)              # Euler's number\n",
    "print(math.pi)             # pi value\n",
    "print(math.factorial(5))   # print factorial of 5\n",
    "print(math.fmod(20,4))     # print remainder\n",
    "print(math.fsum([1,2,2,3,4,1,2]))       # print sum of all the items in iterable (list, tuple, etc)\n",
    "print (math.gcd(12, 36))                # print gcd of 12 and 36, accept only two arguments\n",
    "print(math.pow(9, 3))                   # print 9 raised to the power 3\n",
    "print (math.sqrt(25))                   # print the square root of 25"
   ]
  }
 ],
 "metadata": {
  "kernelspec": {
   "display_name": "Python 3",
   "language": "python",
   "name": "python3"
  },
  "language_info": {
   "codemirror_mode": {
    "name": "ipython",
    "version": 3
   },
   "file_extension": ".py",
   "mimetype": "text/x-python",
   "name": "python",
   "nbconvert_exporter": "python",
   "pygments_lexer": "ipython3",
   "version": "3.8.10"
  }
 },
 "nbformat": 4,
 "nbformat_minor": 2
}
