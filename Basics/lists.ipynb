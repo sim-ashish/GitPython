{
 "cells": [
  {
   "cell_type": "markdown",
   "metadata": {},
   "source": [
    "# Lists\n",
    "- In Python, lists allow us to store multiple items in a single variable. For example, if you need to store the ages of all the students in a class, you can do this task using a list.\n",
    "- Lists are similar to arrays (dynamic arrays that allow us to store items of different data types) in other programming languages."
   ]
  },
  {
   "cell_type": "code",
   "execution_count": 1,
   "metadata": {},
   "outputs": [
    {
     "name": "stdout",
     "output_type": "stream",
     "text": [
      "[19, 26, 29]\n"
     ]
    }
   ],
   "source": [
    "# a list of three elements\n",
    "ages = [19, 26, 29]\n",
    "print(ages)"
   ]
  },
  {
   "cell_type": "code",
   "execution_count": 2,
   "metadata": {},
   "outputs": [
    {
     "name": "stdout",
     "output_type": "stream",
     "text": [
      "['Jack', 32, 'Computer Science', [2, 4]]\n",
      "[]\n"
     ]
    }
   ],
   "source": [
    "# a list containing strings, numbers and another list\n",
    "student = ['Jack', 32, 'Computer Science', [2, 4]]\n",
    "print(student)\n",
    "\n",
    "# an empty list\n",
    "empty_list = []\n",
    "print(empty_list)"
   ]
  },
  {
   "cell_type": "markdown",
   "metadata": {},
   "source": [
    "#### List Characteristics\n",
    "- **Ordered** - They maintain the order of elements.\n",
    "- **Mutable** - Items can be changed after creation.\n",
    "- **Allow duplicates** - They can contain duplicate values."
   ]
  },
  {
   "cell_type": "code",
   "execution_count": 4,
   "metadata": {},
   "outputs": [
    {
     "name": "stdout",
     "output_type": "stream",
     "text": [
      "languages[0] = Python\n",
      "languages[2] = C++\n",
      "languages[-1] = C++\n",
      "languages[-3] = Python\n"
     ]
    }
   ],
   "source": [
    "'''Each element in a list is associated with a number, known as an index. The index of first item is 0, the index of second item is 1, and so on.'''\n",
    "languages = ['Python', 'Swift', 'C++']\n",
    "\n",
    "# access the first element\n",
    "print('languages[0] =', languages[0])\n",
    "\n",
    "# access the third element\n",
    "print('languages[2] =', languages[2])\n",
    "\n",
    "'''In Python, a list can also have negative indices. The index of the last element is -1, the second last element is -2 and so on.'''\n",
    "\n",
    "\n",
    "# access the last item\n",
    "print('languages[-1] =', languages[-1])\n",
    "\n",
    "# access the third last item\n",
    "print('languages[-3] =', languages[-3]) "
   ]
  },
  {
   "cell_type": "markdown",
   "metadata": {},
   "source": [
    "##### Slicing of list "
   ]
  },
  {
   "cell_type": "code",
   "execution_count": 6,
   "metadata": {},
   "outputs": [
    {
     "name": "stdout",
     "output_type": "stream",
     "text": [
      "my_list = ['p', 'r', 'o', 'g', 'r', 'a', 'm']\n",
      "my_list[2: 5] = ['o', 'g', 'r']\n",
      "my_list[2: -2] = ['o', 'g', 'r']\n",
      "my_list[0: 3] = ['p', 'r', 'o']\n",
      "my_list[5: ] = ['a', 'm']\n",
      "my_list[: -4] = ['p', 'r', 'o']\n",
      "my_list[:] = ['p', 'r', 'o', 'g', 'r', 'a', 'm']\n"
     ]
    }
   ],
   "source": [
    "my_list = ['p', 'r', 'o', 'g', 'r', 'a', 'm']\n",
    "print(\"my_list =\", my_list)\n",
    "\n",
    "# get a list with items from index 2 to index 4 (index 5 is not included)\n",
    "print(\"my_list[2: 5] =\", my_list[2: 5])    \n",
    "\n",
    "# get a list with items from index 2 to index -3 (index -2 is not included)\n",
    "print(\"my_list[2: -2] =\", my_list[2: -2])  \n",
    "\n",
    "# get a list with items from index 0 to index 2 (index 3 is not included)\n",
    "print(\"my_list[0: 3] =\", my_list[0: 3])\n",
    "\n",
    "# get a list with items from index 5 to last\n",
    "print(\"my_list[5: ] =\", my_list[5: ])\n",
    "\n",
    "# get a list from the first item to index -5\n",
    "print(\"my_list[: -4] =\", my_list[: -4])\n",
    "\n",
    "# omitting both start and end index\n",
    "# get a list from start to end items\n",
    "print(\"my_list[:] =\", my_list[:])"
   ]
  }
 ],
 "metadata": {
  "kernelspec": {
   "display_name": "Python 3",
   "language": "python",
   "name": "python3"
  },
  "language_info": {
   "codemirror_mode": {
    "name": "ipython",
    "version": 3
   },
   "file_extension": ".py",
   "mimetype": "text/x-python",
   "name": "python",
   "nbconvert_exporter": "python",
   "pygments_lexer": "ipython3",
   "version": "3.8.10"
  }
 },
 "nbformat": 4,
 "nbformat_minor": 2
}
