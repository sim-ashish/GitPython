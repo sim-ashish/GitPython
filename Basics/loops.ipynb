{
 "cells": [
  {
   "cell_type": "markdown",
   "metadata": {},
   "source": [
    "# Python Loops"
   ]
  },
  {
   "cell_type": "markdown",
   "metadata": {},
   "source": [
    "Python loops allow us to execute a statement or group of statements multiple times.\n",
    "\n",
    "In general, statements are executed sequentially: The first statement in a function is executed first, followed by the second, and so on. There may be a situation when you need to execute a block of code several number of times."
   ]
  },
  {
   "cell_type": "code",
   "execution_count": 21,
   "metadata": {},
   "outputs": [
    {
     "name": "stdout",
     "output_type": "stream",
     "text": [
      "1 2 3 4 5 6 7 8 9 \n",
      "1 3 5 7 9 \n",
      "Odd Even Odd Even Odd Even Odd Even Odd Even \n",
      "T h i s   i s   s t r i n g 1 \n",
      "1 2 python lists \n",
      "1 2 python lists \n",
      "1 : a 2 : b 3 : c 4 : d \n",
      "(1, 'a')\n",
      "(2, 'b')\n",
      "(3, 'c')\n",
      "(4, 'd')\n",
      "1\n",
      "2\n",
      "3\n",
      "4\n",
      "a\n",
      "b\n",
      "c\n",
      "d\n",
      "Hello\n",
      "Hello\n",
      "Hello\n",
      "Hello\n",
      "Hello\n",
      "1 2  For loop finished\n"
     ]
    }
   ],
   "source": [
    "''' for loop'''\n",
    "'''\n",
    "for iterating_var in sequence:\n",
    "   statement(s)\n",
    "'''\n",
    "\n",
    "# for loop with range(start, end, step), range is an object which give us iterator (We will see it later in depth)\n",
    "\n",
    "for i in range(1,10):   # run from 1 to 9\n",
    "    print(i, end = ' ')\n",
    "\n",
    "print()     # to add a new empty line\n",
    "\n",
    "\n",
    "for i in range(1,10,2):   # run from 1 to 9 with a jump of 2\n",
    "    print(i, end = ' ')\n",
    "\n",
    "print()     # to add a new empty line\n",
    "\n",
    "\n",
    "\n",
    "# using conditions in for loop\n",
    "\n",
    "for i in range(1,11):\n",
    "    if (i%2 == 0):\n",
    "        print(\"Even\", end = ' ')\n",
    "    else:\n",
    "        print(\"Odd\", end = ' ')\n",
    "\n",
    "print()\n",
    "\n",
    "\n",
    "# loop with strings \n",
    "str1 = '''This is string1'''\n",
    "str2 = \"this is string2\"    # You can also use this, and even string declared with single quotation also works\n",
    "\n",
    "for char in str1:\n",
    "    print(char, end= ' ')\n",
    "\n",
    "print()\n",
    "\n",
    "\n",
    "# loop with list dataType\n",
    "\n",
    "li = [1,2,\"python\",\"lists\"]\n",
    "\n",
    "for val in li:\n",
    "    print(val, end = ' ')\n",
    "\n",
    "print()\n",
    "\n",
    "for i in range(0, len(li)):     # this will run from 0(start index) to length of list -1\n",
    "    print(li[i], end = ' ')\n",
    "\n",
    "print()\n",
    "\n",
    "# loop with dictionary\n",
    "\n",
    "dictionary = {1:'a', 2:'b', 3:'c', 4:'d'}\n",
    "\n",
    "for i in dictionary:\n",
    "    print(i, end = ' ')     # it will print keys of dictionary\n",
    "    print(\":\", end = ' ')\n",
    "    print(dictionary.get(i), end = ' ')     # it will print values , dictionary[i] also works fine\n",
    "\n",
    "print()\n",
    "\n",
    "'''The items(), keys() and values() methods of dict class return the view objects dict_items, dict_keys and dict_values respectively. \n",
    "   These objects are iterators, and hence we can run a for loop over them.'''\n",
    "\n",
    "for x in dictionary.items():    # The dict_items object is a list of key-value tuples over which a for loop executes\n",
    "   print (x) \n",
    "\n",
    "for x in dictionary.keys():    # The dict_items object is a list of keys over which a for loop executes\n",
    "   print (x) \n",
    "\n",
    "for x in dictionary.values():    # The dict_items object is a list of values tuples over which a for loop executes\n",
    "   print (x) \n",
    "\n",
    "\n",
    "'''If we are not using the iterator value, then we can have _ as a variable'''\n",
    "\n",
    "for _ in range(0,5):    # it will execute 5 times\n",
    "    print(\"Hello\")\n",
    "\n",
    "\n",
    "'''We can have a else condition with for loops also'''\n",
    "for i in range(1,3):\n",
    "    print(i, end = ' ')\n",
    "else:\n",
    "    print(\" For loop finished\")\n",
    "\n",
    "'''else condition will execute every time wen for loop will finish, but not execute if the for loop is stopped by break statement'''\n",
    "\n",
    "# We will see break and continue which are jump statements in the next code cell"
   ]
  },
  {
   "cell_type": "markdown",
   "metadata": {},
   "source": [
    "## Jump statements (break, continue)"
   ]
  },
  {
   "cell_type": "code",
   "execution_count": 24,
   "metadata": {},
   "outputs": [
    {
     "name": "stdout",
     "output_type": "stream",
     "text": [
      "1 2 3 4 \n",
      "1 2 3 4 6 7 8 9 10 \n",
      "1 2 "
     ]
    }
   ],
   "source": [
    "'''We will use break to break the execution of current loop\n",
    "   and use continue to skip a specific iteration of the loop'''\n",
    "\n",
    "# suppose i am iterating over a range of 1 to 10, and if 5 number encounte the loops should break and further process will not execute\n",
    "\n",
    "for i in range(1,11):\n",
    "    if(i == 5):     # it will match if i is equals to 5\n",
    "        break\n",
    "    print(i, end = ' ')     # executes if, if condition will not executes\n",
    "\n",
    "print()\n",
    "\n",
    "# Now i want that if number 5 encounter it will skip that iteration and go to next iteration\n",
    "\n",
    "for i in range(1,11):\n",
    "    if(i == 5):\n",
    "        continue\n",
    "    print(i, end = ' ')\n",
    "\n",
    "print()\n",
    "\n",
    "\n",
    "'''Now lets see the break with else statement'''\n",
    "\n",
    "for i in range(1,11):\n",
    "    if(i == 3):\n",
    "        break\n",
    "    print(i, end = ' ')\n",
    "\n",
    "else:\n",
    "    print(\"for loop executed\")"
   ]
  },
  {
   "cell_type": "markdown",
   "metadata": {},
   "source": [
    "## While loop"
   ]
  },
  {
   "cell_type": "code",
   "execution_count": 25,
   "metadata": {},
   "outputs": [
    {
     "name": "stdout",
     "output_type": "stream",
     "text": [
      "1 2 3 4 5 6 7 8 9 "
     ]
    }
   ],
   "source": [
    "'''In Python, we use a while loop to repeat a block of code until a certain condition is met.'''\n",
    "'''\n",
    "    while expression:\n",
    "    statement(s)\n",
    "'''\n",
    "i = 1\n",
    "while(i<10):\n",
    "    print(i, end = ' ')\n",
    "    i += 1\n",
    "\n",
    "# Rember to write terminate condition carefully, otherwise the loop can go upto infinite\n"
   ]
  },
  {
   "cell_type": "markdown",
   "metadata": {},
   "source": [
    "## do while loop"
   ]
  },
  {
   "cell_type": "markdown",
   "metadata": {},
   "source": [
    "- **Python does not have any do while loop**"
   ]
  }
 ],
 "metadata": {
  "kernelspec": {
   "display_name": "Python 3",
   "language": "python",
   "name": "python3"
  },
  "language_info": {
   "codemirror_mode": {
    "name": "ipython",
    "version": 3
   },
   "file_extension": ".py",
   "mimetype": "text/x-python",
   "name": "python",
   "nbconvert_exporter": "python",
   "pygments_lexer": "ipython3",
   "version": "3.8.10"
  }
 },
 "nbformat": 4,
 "nbformat_minor": 2
}
