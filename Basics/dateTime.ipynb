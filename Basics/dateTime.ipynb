{
 "cells": [
  {
   "cell_type": "code",
   "execution_count": 12,
   "metadata": {},
   "outputs": [
    {
     "name": "stdout",
     "output_type": "stream",
     "text": [
      "2022-03-21\n",
      "2025-02-14\n",
      "4\n",
      "5\n",
      "14\n",
      "2025\n",
      "2\n",
      "2025-02-21\n",
      "2025-02-07\n",
      "8056\n",
      "696038400.0\n"
     ]
    }
   ],
   "source": [
    "import datetime\n",
    "\n",
    "tdd = datetime.date(2022, 3, 21)            # (2022, 03, 21) incorrect\n",
    "print(tdd)\n",
    "\n",
    "today = datetime.date.today()\n",
    "print(today)\n",
    "\n",
    "\n",
    "print(today.weekday())              # moday - 0 , sunday - 6\n",
    "print(today.isoweekday())           # monday - 1, sunday - 7\n",
    "print(today.day)\n",
    "print(today.year)\n",
    "print(today.month)\n",
    "\n",
    "\n",
    "time_delts = datetime.timedelta(days = 7)\n",
    "\n",
    "print(today + time_delts)\n",
    "print(today - time_delts)\n",
    "\n",
    "\n",
    "# date2 = date1 + timedelta\n",
    "# timedelta = date1 + date2\n",
    "\n",
    "bday = datetime.date(2003, 1, 25)\n",
    "till_bday = today - bday \n",
    "\n",
    "print(till_bday.days)\n",
    "print(till_bday.total_seconds())\n",
    "\n"
   ]
  },
  {
   "cell_type": "code",
   "execution_count": 19,
   "metadata": {},
   "outputs": [
    {
     "name": "stdout",
     "output_type": "stream",
     "text": [
      "09:30:45.010000\n",
      "9\n",
      "2022-07-12 11:45:20.010000\n",
      "11:45:20.010000\n",
      "2022\n"
     ]
    }
   ],
   "source": [
    "t = datetime.time(9, 30, 45, 10000)\n",
    "print(t)\n",
    "print(t.hour)\n",
    "\n",
    "dateAndTime = datetime.datetime(2022, 7, 12, 11, 45, 20, 10000)\n",
    "print(dateAndTime)\n",
    "\n",
    "print(dateAndTime.time())\n",
    "print(dateAndTime.year)\n"
   ]
  }
 ],
 "metadata": {
  "kernelspec": {
   "display_name": "Python 3",
   "language": "python",
   "name": "python3"
  },
  "language_info": {
   "codemirror_mode": {
    "name": "ipython",
    "version": 3
   },
   "file_extension": ".py",
   "mimetype": "text/x-python",
   "name": "python",
   "nbconvert_exporter": "python",
   "pygments_lexer": "ipython3",
   "version": "3.8.10"
  }
 },
 "nbformat": 4,
 "nbformat_minor": 2
}
