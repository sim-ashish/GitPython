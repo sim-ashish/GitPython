{
 "cells": [
  {
   "cell_type": "markdown",
   "metadata": {},
   "source": [
    "## lambda, map, filter, reduce"
   ]
  },
  {
   "cell_type": "code",
   "execution_count": 7,
   "metadata": {},
   "outputs": [
    {
     "name": "stdout",
     "output_type": "stream",
     "text": [
      "40\n",
      "50\n"
     ]
    },
    {
     "data": {
      "text/plain": [
       "30"
      ]
     },
     "execution_count": 7,
     "metadata": {},
     "output_type": "execute_result"
    }
   ],
   "source": [
    "'''lambda functions are also known as anonymous functions\n",
    "   without name, without def keyword and without return keyword'''\n",
    "\n",
    "x = 20\n",
    "print((lambda x: 2*x)(x))\n",
    "\n",
    "y = 30\n",
    "\n",
    "print((lambda x,y: x+y)(x,y))\n",
    "\n",
    "mx = lambda x,y:x if x>y else y\n",
    "mx(x,y)"
   ]
  },
  {
   "cell_type": "markdown",
   "metadata": {},
   "source": [
    "## Map "
   ]
  },
  {
   "cell_type": "code",
   "execution_count": 10,
   "metadata": {},
   "outputs": [
    {
     "name": "stdout",
     "output_type": "stream",
     "text": [
      "[1, 4, 9, 16, 25, 36]\n",
      "[1, 0, 1, 0, 1, 0]\n"
     ]
    }
   ],
   "source": [
    "'''Map function maps the value of each item using lambda function in the passed list and return the mapped list'''\n",
    "\n",
    "'''\n",
    "    new_sequence = list(map(lambda x:x**2, sequence))\n",
    "    '''\n",
    "li = [1,2,3,4,5,6]\n",
    "\n",
    "map_list = list(map(lambda x: x**2, li))           # we can use any normal function also\n",
    "print(map_list)\n",
    "\n",
    "def modulo(number):\n",
    "    return number%2\n",
    "    \n",
    "mod_list = list(map(modulo, li))\n",
    "print(mod_list)\n",
    "\n",
    "\n",
    "# [x**2 for x in li]            list comprehension"
   ]
  },
  {
   "cell_type": "markdown",
   "metadata": {},
   "source": [
    "## Filter"
   ]
  },
  {
   "cell_type": "code",
   "execution_count": 11,
   "metadata": {},
   "outputs": [
    {
     "name": "stdout",
     "output_type": "stream",
     "text": [
      "[2, 4, 6, 8, 10]\n"
     ]
    }
   ],
   "source": [
    "'''filter function returns a filtered list based on some conditions'''\n",
    "\n",
    "li = [1,2,3,4,5,6,7,8,9,10]\n",
    "\n",
    "filtered_list = list(filter(lambda x: x%2==0, li))\n",
    "\n",
    "print(filtered_list)\n",
    "\n",
    "\n",
    "# [x for  x in li if x%2==0]        list comprehension"
   ]
  },
  {
   "cell_type": "markdown",
   "metadata": {},
   "source": [
    "## Reduce"
   ]
  },
  {
   "cell_type": "code",
   "execution_count": 15,
   "metadata": {},
   "outputs": [
    {
     "name": "stdout",
     "output_type": "stream",
     "text": [
      "55\n",
      "[1, 3, 6, 10, 15, 21, 28, 36, 45, 55]\n"
     ]
    }
   ],
   "source": [
    "'''Reduce function reduces the list items using some conditions'''\n",
    "\n",
    "# it returns an item not a list\n",
    "\n",
    "from functools import reduce\n",
    "\n",
    "li = [1,2,3,4,5,6,7,8,9,10]\n",
    "\n",
    "all_sum = reduce(lambda x,y : x+y, li)\n",
    "\n",
    "print(all_sum)\n",
    "\n",
    "\n",
    "# there is also another function called accumulator, it reduces in cumulative pattern\n",
    "\n",
    "from itertools import accumulate\n",
    "\n",
    "results = accumulate(li, lambda x,y:x+y)\n",
    "print(list(results))"
   ]
  }
 ],
 "metadata": {
  "kernelspec": {
   "display_name": "Python 3",
   "language": "python",
   "name": "python3"
  },
  "language_info": {
   "codemirror_mode": {
    "name": "ipython",
    "version": 3
   },
   "file_extension": ".py",
   "mimetype": "text/x-python",
   "name": "python",
   "nbconvert_exporter": "python",
   "pygments_lexer": "ipython3",
   "version": "3.8.10"
  }
 },
 "nbformat": 4,
 "nbformat_minor": 2
}
